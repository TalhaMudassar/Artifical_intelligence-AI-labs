{
 "cells": [
  {
   "cell_type": "code",
   "execution_count": null,
   "id": "c5a5c6ed-96ba-4d6b-aaa3-4fae0a7494d2",
   "metadata": {},
   "outputs": [
    {
     "name": "stdout",
     "output_type": "stream",
     "text": [
      "Sorted array: [3, 9, 10, 27, 38, 43, 82]\n"
     ]
    }
   ],
   "source": [
    "#Exercise 2.2: Merge Sort Implementation\n",
    "def merge_sort(arr):\n",
    "    if len(arr) > 1:\n",
    "        mid = len(arr) // 2\n",
    "        left_half = arr[:mid]\n",
    "        right_half = arr[mid:]\n",
    "\n",
    "        merge_sort(left_half)\n",
    "        merge_sort(right_half)\n",
    "\n",
    "        i = j = k = 0\n",
    "\n",
    "        while i < len(left_half) and j < len(right_half):\n",
    "            if left_half[i] < right_half[j]:\n",
    "                arr[k] = left_half[i]\n",
    "                i += 1\n",
    "            else:\n",
    "                arr[k] = right_half[j]\n",
    "                j += 1\n",
    "            k += 1\n",
    "\n",
    "        while i < len(left_half):\n",
    "            arr[k] = left_half[i]\n",
    "            i += 1\n",
    "            k += 1\n",
    "\n",
    "        while j < len(right_half):\n",
    "            arr[k] = right_half[j]\n",
    "            j += 1\n",
    "            k += 1\n",
    "\n",
    "def merge(arr, left, mid, right):\n",
    "    pass  # This function is not needed as we are merging in-place in merge_sort\n",
    "\n",
    "# Example usage:\n",
    "arr = [38, 27, 43, 3, 9, 82, 10]\n",
    "merge_sort(arr)\n",
    "print(\"Sorted array:\", arr)"
   ]
  },
  {
   "cell_type": "code",
   "execution_count": null,
   "id": "65b3f10c-2748-48b7-ad1a-84b1deef4f16",
   "metadata": {},
   "outputs": [
    {
     "name": "stdout",
     "output_type": "stream",
     "text": [
      "Bubble Sorted: ['H', 'N', 'O', 'P', 'T', 'Y']\n"
     ]
    }
   ],
   "source": [
    "# Exercise 2.3: Sorting Algorithms on ['P', 'Y', 'T', 'H', 'O', 'N']\n",
    "# Bubble Sort\n",
    "def bubble_sort(arr):\n",
    "    n = len(arr)\n",
    "    for i in range(n):\n",
    "        for j in range(0, n-i-1):\n",
    "            if arr[j] > arr[j+1]:\n",
    "                arr[j], arr[j+1] = arr[j+1], arr[j]\n",
    "\n",
    "arr = ['P', 'Y', 'T', 'H', 'O', 'N']\n",
    "bubble_sort(arr)\n",
    "print(\"Bubble Sorted:\", arr)"
   ]
  },
  {
   "cell_type": "code",
   "execution_count": null,
   "id": "1f6e227b-8a8a-411f-b10a-6f55d3d2b5dc",
   "metadata": {},
   "outputs": [
    {
     "name": "stdout",
     "output_type": "stream",
     "text": [
      "Selection Sorted: ['H', 'N', 'O', 'P', 'T', 'Y']\n"
     ]
    }
   ],
   "source": [
    "#Selection Sort\n",
    "def selection_sort(arr):\n",
    "    for i in range(len(arr)):\n",
    "        min_idx = i\n",
    "        for j in range(i+1, len(arr)):\n",
    "            if arr[j] < arr[min_idx]:\n",
    "                min_idx = j\n",
    "        arr[i], arr[min_idx] = arr[min_idx], arr[i]\n",
    "\n",
    "arr = ['P', 'Y', 'T', 'H', 'O', 'N']\n",
    "selection_sort(arr)\n",
    "print(\"Selection Sorted:\", arr)"
   ]
  },
  {
   "cell_type": "code",
   "execution_count": null,
   "id": "77d00ad4-e21b-4840-9acf-0fd18d07e109",
   "metadata": {},
   "outputs": [
    {
     "name": "stdout",
     "output_type": "stream",
     "text": [
      "Insertion Sorted: ['H', 'N', 'O', 'P', 'T', 'Y']\n"
     ]
    }
   ],
   "source": [
    "# Insertion Sort\n",
    "def insertion_sort(arr):\n",
    "    for i in range(1, len(arr)):\n",
    "        key = arr[i]\n",
    "        j = i-1\n",
    "        while j >= 0 and key < arr[j]:\n",
    "            arr[j+1] = arr[j]\n",
    "            j -= 1\n",
    "        arr[j+1] = key\n",
    "\n",
    "arr = ['P', 'Y', 'T', 'H', 'O', 'N']\n",
    "insertion_sort(arr)\n",
    "print(\"Insertion Sorted:\", arr)"
   ]
  },
  {
   "cell_type": "code",
   "execution_count": null,
   "id": "ea949929-6d68-4c52-8adf-92e1b5f7b92c",
   "metadata": {},
   "outputs": [
    {
     "name": "stdout",
     "output_type": "stream",
     "text": [
      "Merge Sorted: ['H', 'N', 'O', 'P', 'T', 'Y']\n"
     ]
    }
   ],
   "source": [
    "#merge sort\n",
    "# Using the merge_sort function from Exercise 2.2\n",
    "arr = ['P', 'Y', 'T', 'H', 'O', 'N']\n",
    "merge_sort(arr)\n",
    "print(\"Merge Sorted:\", arr)"
   ]
  },
  {
   "cell_type": "code",
   "execution_count": null,
   "id": "0a2d76e2-7f62-40d6-ad33-008ab01f6ac5",
   "metadata": {},
   "outputs": [
    {
     "name": "stdout",
     "output_type": "stream",
     "text": [
      "Mean: 3.1666666666666665\n",
      "Median: 3.5\n",
      "Mode: 4\n"
     ]
    }
   ],
   "source": [
    "# Exercise 2.4: Mean, Median, Mode\n",
    "from statistics import mean, median, mode\n",
    "\n",
    "def calculate_stats(numbers):\n",
    "    return {\n",
    "        \"mean\": mean(numbers),\n",
    "        \"median\": median(numbers),\n",
    "        \"mode\": mode(numbers)\n",
    "    }\n",
    "\n",
    "numbers = [1, 2, 3, 4, 4, 5]\n",
    "stats = calculate_stats(numbers)\n",
    "print(\"Mean:\", stats[\"mean\"])\n",
    "print(\"Median:\", stats[\"median\"])\n",
    "print(\"Mode:\", stats[\"mode\"])"
   ]
  },
  {
   "cell_type": "code",
   "execution_count": null,
   "id": "fc0a96c6-17b9-4ad9-adbe-c8e876dc614c",
   "metadata": {},
   "outputs": [
    {
     "name": "stdout",
     "output_type": "stream",
     "text": [
      "Duplicates: [2, 4]\n"
     ]
    }
   ],
   "source": [
    "# Exercise 2.5: Finding Duplicates\n",
    "def dups(lst):\n",
    "    seen = set()\n",
    "    duplicates = set()\n",
    "    for num in lst:\n",
    "        if num in seen:\n",
    "            duplicates.add(num)\n",
    "        else:\n",
    "            seen.add(num)\n",
    "    return list(duplicates)\n",
    "\n",
    "lst = [1, 2, 2, 3, 4, 4, 5]\n",
    "print(\"Duplicates:\", dups(lst))"
   ]
  },
  {
   "cell_type": "code",
   "execution_count": null,
   "id": "8bcf527a-05e9-4f45-bde3-159e96e61a19",
   "metadata": {},
   "outputs": [
    {
     "name": "stdout",
     "output_type": "stream",
     "text": [
      "First three elements of c: [1, 3, 5]\n",
      "Last element of d: 10\n",
      "Length of d: 7\n"
     ]
    }
   ],
   "source": [
    "# Exercise 2.6: List Manipulation\n",
    "a = [1, 3, 5]\n",
    "b = [2, 4, 6]\n",
    "c = a + b\n",
    "d = sorted(c)\n",
    "d.reverse()\n",
    "c[3] = 42\n",
    "d.append(10)\n",
    "c.extend([7, 8, 9])\n",
    "print(\"First three elements of c:\", c[:3])\n",
    "print(\"Last element of d:\", d[-1])\n",
    "print(\"Length of d:\", len(d))"
   ]
  },
  {
   "cell_type": "code",
   "execution_count": null,
   "id": "f5cc9521-ffac-423a-afdf-12b81c843bf1",
   "metadata": {},
   "outputs": [
    {
     "name": "stdout",
     "output_type": "stream",
     "text": [
      "Second element of the second tuple: 3\n",
      "Last two elements of the first list in b: [3, 4]\n"
     ]
    }
   ],
   "source": [
    "# Exercise 2.7: Tuples and Lists\n",
    "\n",
    "a = [(1,), (2, 3), (4, 5, 6)]\n",
    "print(\"Second element of the second tuple:\", a[1][1])\n",
    "\n",
    "b = [[1, 2, 3, 4], [5, 6, 7, 8], [9, 10, 11, 12], [13, 14, 15, 16]]\n",
    "print(\"Last two elements of the first list in b:\", b[0][-2:])"
   ]
  },
  {
   "cell_type": "code",
   "execution_count": null,
   "id": "c1fbc7e0-577d-4a16-a9a1-e70095746fc1",
   "metadata": {},
   "outputs": [
    {
     "name": "stdout",
     "output_type": "stream",
     "text": [
      "Calendar with event: [[], ['Independence Day'], [], []]\n"
     ]
    }
   ],
   "source": [
    "# Exercise 2.8: Calendar with Events\n",
    "\n",
    "calendar = {month: [[] for _ in range(4)] for month in [\n",
    "    \"January\", \"February\", \"March\", \"April\", \"May\", \"June\",\n",
    "    \"July\", \"August\", \"September\", \"October\", \"November\", \"December\"\n",
    "]}\n",
    "\n",
    "calendar[\"July\"][1].append(\"Independence Day\")\n",
    "print(\"Calendar with event:\", calendar[\"July\"])"
   ]
  },
  {
   "cell_type": "code",
   "execution_count": null,
   "id": "0ef91b5d-437f-4ff0-b079-fd0d11e3aaa9",
   "metadata": {},
   "outputs": [
    {
     "name": "stdout",
     "output_type": "stream",
     "text": [
      "Time to find 100000: 0.0\n",
      "Time to find 200000: 0.028438329696655273\n",
      "Time to find 300000: 0.04594135284423828\n",
      "Time to find 3: 0.03900313377380371\n"
     ]
    }
   ],
   "source": [
    "# Exercise 2.9: Timing Searches\n",
    "\n",
    "import time\n",
    "\n",
    "big_list = list(range(100000, 300001))\n",
    "\n",
    "def search(integer_list, key):\n",
    "    for i in range(0, len(integer_list)):\n",
    "        if integer_list[i] == key:\n",
    "            return i\n",
    "    return None\n",
    "\n",
    "def timer(search_func, integer_list, key):\n",
    "    start = time.time()\n",
    "    search_func(integer_list, key)\n",
    "    end = time.time()\n",
    "    return end - start\n",
    "\n",
    "print(\"Time to find 100000:\", timer(search, big_list, 100000))\n",
    "print(\"Time to find 200000:\", timer(search, big_list, 200000))\n",
    "print(\"Time to find 300000:\", timer(search, big_list, 300000))\n",
    "print(\"Time to find 3:\", timer(search, big_list, 3))   \n",
    "    # ok"
   ]
  },
  {
   "cell_type": "code",
   "execution_count": null,
   "id": "985e03b5-4959-4c02-9412-b938e9df2608",
   "metadata": {},
   "outputs": [],
   "source": [
    "print(\"Hello world\")"
   ]
  }
 ],
 "metadata": {
  "kernelspec": {
   "display_name": "Python 3 (ipykernel)",
   "language": "python",
   "name": "python3"
  },
  "language_info": {
   "codemirror_mode": {
    "name": "ipython",
    "version": 3
   },
   "file_extension": ".py",
   "mimetype": "text/x-python",
   "name": "python",
   "nbconvert_exporter": "python",
   "pygments_lexer": "ipython3",
   "version": "3.11.7"
  }
 },
 "nbformat": 4,
 "nbformat_minor": 5
}
