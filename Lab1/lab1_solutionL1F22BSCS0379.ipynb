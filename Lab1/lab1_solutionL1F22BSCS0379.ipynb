{
 "cells": [
  {
   "cell_type": "code",
   "execution_count": 1,
   "id": "cae02a6d-19c8-48c2-a5c8-184aaf9f2bfd",
   "metadata": {},
   "outputs": [
    {
     "name": "stdout",
     "output_type": "stream",
     "text": [
      "A part output are\n",
      "250 <class 'int'>\n",
      "B part output are\n",
      "3 <class 'int'>\n",
      "C part output are\n",
      "250.0 <class 'float'>\n",
      "D part output are\n",
      "300000.0 <class 'float'>\n",
      "E part output are\n",
      "300000 <class 'int'>\n",
      "F part output are\n",
      "90 <class 'int'>\n",
      "110 <class 'int'>\n",
      "The key difference is the order of operations: In 20 + 35 * 2, multiplication is evaluated first due to its higher precedence. In (20 + 35) * 2, the parentheses force the addition to be evaluated first, changing the result.\n",
      "G part output are\n",
      "2.0 <class 'float'>\n",
      "h part output are\n",
      "0 <class 'int'>\n",
      " The key difference lies in the type of division used: In 2 / 3 * 3, the / operator performs floating-point division, which results in a float value (0.666...). When multiplied by 3, the result is 2.0. In 2 // 3 * 3, the // operator performs floor division, which results in an int value (0). When multiplied by 3, the result is 0\n",
      "I part output are\n",
      "6 <class 'int'>\n",
      "31 <class 'int'>\n",
      "24 <class 'int'>\n",
      "The key difference is the order of operations: In 25 - 5 * 2 - 9, multiplication is evaluated first due to its higher precedence, followed by subtraction from left to right. In ((25 - 5) * 2) - 9, the parentheses force the subtraction 25 - 5 to be evaluated first, followed by multiplication and then subtraction. In 25 - ((5 * 2) - 9), the parentheses force the multiplication 5 * 2 to be evaluated first, followed by subtraction inside the parentheses, and then the final subtraction\n"
     ]
    }
   ],
   "source": [
    "# Exercise 1.1 \n",
    "# Type each of the following expressions into python3. What value do each of the following Python \n",
    "# expressions evaluate to? Is that value an integer or a floating point? \n",
    "print(\"A part output are\")\n",
    "# a. 250 \n",
    "a=250\n",
    "print(a,type(a))\n",
    "\n",
    "print(\"B part output are\")\n",
    "# b. 28 % 5 \n",
    "b= 28 % 5\n",
    "print(b,type(b))\n",
    "\n",
    "print(\"C part output are\")\n",
    "# c. 2.5e2 \n",
    "c = 2.5e2\n",
    "print(c,type(c))\n",
    "\n",
    "print(\"D part output are\")\n",
    "# d. 3e5 \n",
    "d = 3e5\n",
    "print(d,type(d))\n",
    "\n",
    "print(\"E part output are\")\n",
    "# e. 3 * 10**5\n",
    "e = 3 * 10**5\n",
    "print(e,type(e))\n",
    "\n",
    "print(\"F part output are\")\n",
    "# f. 20 + 35 * 2 \n",
    "f = 20 + 35 * 2\n",
    "print(f,type(f))\n",
    "# Why is this different from (20 + 35) * 2? \n",
    "ff = (20 + 35) * 2\n",
    "print(ff,type(ff))\n",
    "print(\"The key difference is the order of operations: In 20 + 35 * 2, multiplication is evaluated first due to its higher precedence. In (20 + 35) * 2, the parentheses force the addition to be evaluated first, changing the result.\")\n",
    "\n",
    "\n",
    "print(\"G part output are\")\n",
    "# g. 2 / 3 * 3 \n",
    "g = 2 / 3 * 3 \n",
    "print(g,type(g))\n",
    "\n",
    "\n",
    "print(\"h part output are\")\n",
    "# h. 2 // 3 * 3 \n",
    "h= 2 // 3 * 3\n",
    "print(h,type(h))\n",
    "\n",
    "# Why is this different from 2 / 3 * 3? \n",
    "print(\" The key difference lies in the type of division used: In 2 / 3 * 3, the / operator performs floating-point division, which results in a float value (0.666...). When multiplied by 3, the result is 2.0. In 2 // 3 * 3, the // operator performs floor division, which results in an int value (0). When multiplied by 3, the result is 0\")\n",
    "\n",
    "print(\"I part output are\")\n",
    "# i. 25 - 5 * 2 - 9 \n",
    "i = 25 - 5 * 2 - 9\n",
    "print(i,type(i)) \n",
    "\n",
    "ii = ((25 - 5) * 2) - 9\n",
    "print(ii,type(ii))\n",
    "\n",
    "iii = 25 - ((5 * 2) - 9)\n",
    "print(iii,type(iii))\n",
    "      \n",
    "\n",
    "# Is this different from ((25 - 5) * 2) - 9 and/or 25 - ((5 * 2) - 9)? Why? \n",
    "print(\"The key difference is the order of operations: In 25 - 5 * 2 - 9, multiplication is evaluated first due to its higher precedence, followed by subtraction from left to right. In ((25 - 5) * 2) - 9, the parentheses force the subtraction 25 - 5 to be evaluated first, followed by multiplication and then subtraction. In 25 - ((5 * 2) - 9), the parentheses force the multiplication 5 * 2 to be evaluated first, followed by subtraction inside the parentheses, and then the final subtraction\")\n"
   ]
  },
  {
   "cell_type": "code",
   "execution_count": 2,
   "id": "ab2c81b3-f1a6-4593-ab98-152d4ee73552",
   "metadata": {},
   "outputs": [
    {
     "name": "stdout",
     "output_type": "stream",
     "text": [
      "vanilla ice cream sundae with caramel sauce\n",
      "vanilla ice cream sundae with butterscotch sauce\n",
      "vanilla ice cream sundae with chocolate sauce\n",
      "chocolate ice cream sundae with caramel sauce\n",
      "chocolate ice cream sundae with butterscotch sauce\n",
      "chocolate ice cream sundae with chocolate sauce\n",
      "strawberry ice cream sundae with caramel sauce\n",
      "strawberry ice cream sundae with butterscotch sauce\n",
      "strawberry ice cream sundae with chocolate sauce\n",
      "pistacchio ice cream sundae with caramel sauce\n",
      "pistacchio ice cream sundae with butterscotch sauce\n",
      "pistacchio ice cream sundae with chocolate sauce\n",
      "Total number of sundaes: 12\n"
     ]
    }
   ],
   "source": [
    "def sundaes(): \n",
    "    flavors = [\"vanilla\", \"chocolate\", \"strawberry\", \"pistacchio\"] \n",
    "    sauces  = [\"caramel\", \"butterscotch\", \"chocolate\"]\n",
    "    count = 0\n",
    "    for i in flavors:\n",
    "        for j in sauces:\n",
    "            print(i + \" ice cream sundae with \" + j + \" sauce\") \n",
    "            count +=1\n",
    "    return count\n",
    "    \n",
    "total_sundaes = sundaes()\n",
    "print(\"Total number of sundaes:\", total_sundaes)"
   ]
  },
  {
   "cell_type": "code",
   "execution_count": 3,
   "id": "2e13bc06-8f49-4fc8-8a77-c92e43f7f145",
   "metadata": {},
   "outputs": [
    {
     "name": "stdout",
     "output_type": "stream",
     "text": [
      "1\n",
      "2 3\n",
      "4 5 6\n",
      "7 8 9 10\n",
      "11 12 13 14 15\n",
      "16 17 18 19 20 21\n",
      "22 23 24 25 26 27 28\n",
      "29 30 31 32 33 34 35 36\n",
      "37 38 39 40 41 42 43 44 45\n",
      "46 47 48 49 50 51 52 53 54 55\n"
     ]
    }
   ],
   "source": [
    "#Exercise 1.3 \n",
    "def triangle(n):\n",
    "    value = 1\n",
    "    row =1\n",
    "    while row <= n:\n",
    "        column=1\n",
    "        while column <= row:\n",
    "            if(column != row):\n",
    "                print(value,sep='',end=' ')\n",
    "            else:\n",
    "                print(value)\n",
    "                 \n",
    "            value = value+1\n",
    "            column = column +1\n",
    "        row = row+1\n",
    "\n",
    "triangle(10)"
   ]
  },
  {
   "cell_type": "code",
   "execution_count": 4,
   "id": "6e7f005d-1afb-4146-8812-d69bf454d110",
   "metadata": {},
   "outputs": [
    {
     "name": "stdout",
     "output_type": "stream",
     "text": [
      "enter number for finding the cube\n"
     ]
    },
    {
     "name": "stdin",
     "output_type": "stream",
     "text": [
      " 3\n"
     ]
    },
    {
     "name": "stdout",
     "output_type": "stream",
     "text": [
      "Cube: 27\n",
      "enter number for finding the factorial\n"
     ]
    },
    {
     "name": "stdin",
     "output_type": "stream",
     "text": [
      " 5\n"
     ]
    },
    {
     "name": "stdout",
     "output_type": "stream",
     "text": [
      "factorial=  120\n",
      "2\n",
      "3\n",
      "enter number for finding the table\n"
     ]
    },
    {
     "name": "stdin",
     "output_type": "stream",
     "text": [
      " 5\n"
     ]
    },
    {
     "name": "stdout",
     "output_type": "stream",
     "text": [
      "5 * 1 = 5\n",
      "5 * 2 = 10\n",
      "5 * 3 = 15\n",
      "5 * 4 = 20\n",
      "5 * 5 = 25\n",
      "5 * 6 = 30\n",
      "5 * 7 = 35\n",
      "5 * 8 = 40\n",
      "5 * 9 = 45\n",
      "5 * 10 = 50\n",
      "HERE is the cacluation function \n"
     ]
    },
    {
     "name": "stdin",
     "output_type": "stream",
     "text": [
      "Enter first number:  3\n",
      "Enter operator (+, -, *, /):  +\n",
      "Enter second number:  3\n"
     ]
    },
    {
     "name": "stdout",
     "output_type": "stream",
     "text": [
      "Result: 6.0\n"
     ]
    },
    {
     "name": "stdin",
     "output_type": "stream",
     "text": [
      "Enter a sentence:  hellows\n"
     ]
    },
    {
     "name": "stdout",
     "output_type": "stream",
     "text": [
      "Sorted Sentence: hellows\n"
     ]
    }
   ],
   "source": [
    "#Exercise 1.4 \n",
    "# • cube(n), which takes in a number and returns its cube. For example, cube(3) => 27.\n",
    "\n",
    "def cube(n):\n",
    "    cubedata=1\n",
    "    for i in range(1,4,1):\n",
    "        cubedata = cubedata*n\n",
    "\n",
    "    return cubedata\n",
    "print(\"enter number for finding the cube\")\n",
    "num =  int(input())\n",
    "print(\"Cube:\", cube(num))\n",
    "        \n",
    "# • factorial(n), which takes in a non-negative integer n and returns n!, which is the \n",
    "# product of the integers from 1 to n. (0! = 1 by definition.) \n",
    "def factorial(n):\n",
    "    fac=1\n",
    "    for i in range(1,n+1,1):\n",
    "        fac = fac*i\n",
    "    return fac\n",
    "\n",
    "print(\"enter number for finding the factorial\")\n",
    "num = int(input())\n",
    "print(\"factorial= \",factorial(num))\n",
    "\n",
    "\n",
    "\n",
    "\n",
    "\n",
    "# • count_pattern(pattern lst), which counts the number of times a certain pattern \n",
    "# of symbols appears in a list, including overlaps. So count_pattern( ('a', 'b'), \n",
    "# ('a','b', 'c', 'e', 'b', 'a', 'b', 'f')) should return 2, and \n",
    "# count_pattern(('a', 'b', 'a'), ('g', 'a', 'b', 'a', 'b', \n",
    "# 'a','b', 'a')) should return 3. \n",
    "\n",
    "def count_pattern(pattern, lst):\n",
    "    count = 0\n",
    "    pattern_length = len(pattern)\n",
    "\n",
    "    for i in range(len(lst) - pattern_length + 1):  # Ensure overlap checking\n",
    "        if tuple(lst[i:i + pattern_length]) == pattern:\n",
    "            count += 1\n",
    "\n",
    "    return count\n",
    "\n",
    "# Example Test Cases\n",
    "print(count_pattern(('a', 'b'), ('a', 'b', 'c', 'e', 'b', 'a', 'b', 'f')))  # Output: 2\n",
    "print(count_pattern(('a', 'b', 'a'), ('g', 'a', 'b', 'a', 'b', 'a', 'b', 'a')))  # Output: 3\n",
    "\n",
    "\n",
    "# • Write a python program to print the multiplication table for the given number? \n",
    "def multiplicationtable(n):\n",
    "    num =1\n",
    "    for i in range(1,11,1):\n",
    "        num = num * i\n",
    "        print(f\"{n} * {i} = {n * i}\")\n",
    "\n",
    "print(\"enter number for finding the table\")\n",
    "num = int(input())\n",
    "multiplicationtable(num)\n",
    "\n",
    "        \n",
    "\n",
    "# • Write a python program to implement Simple Calculator program? (+, -, / ,*) \n",
    "def calculator():\n",
    "    num1 = float(input(\"Enter first number: \"))\n",
    "    operator = input(\"Enter operator (+, -, *, /): \")\n",
    "    num2 = float(input(\"Enter second number: \"))\n",
    "\n",
    "    if operator == '+':\n",
    "        print(\"Result:\", num1 + num2)\n",
    "    elif operator == '-':\n",
    "        print(\"Result:\", num1 - num2)\n",
    "    elif operator == '*':\n",
    "        print(\"Result:\", num1 * num2)\n",
    "    elif operator == '/':\n",
    "        if num2 != 0:\n",
    "            print(\"Result:\", num1 / num2)\n",
    "        else:\n",
    "            print(\"Error: Division by zero!\")\n",
    "    else:\n",
    "        print(\"Invalid operator!\")\n",
    "\n",
    "print(\"HERE is the cacluation function \")\n",
    "calculator()\n",
    "\n",
    "# • Write a python program to sort the sentence in alphabetical order? \n",
    "def sort_sentence(sentence):\n",
    "    words = sentence.split()  # Split the sentence into words\n",
    "    words.sort()  # Sort the words alphabetically\n",
    "    sorted_sentence = ' '.join(words)  # Join them back into a sentence\n",
    "    return sorted_sentence\n",
    "\n",
    "sentence = input(\"Enter a sentence: \")\n",
    "print(\"Sorted Sentence:\", sort_sentence(sentence))\n"
   ]
  },
  {
   "cell_type": "code",
   "execution_count": 5,
   "id": "35a7c1e4-8381-4042-a095-792c0c360315",
   "metadata": {},
   "outputs": [
    {
     "name": "stdin",
     "output_type": "stream",
     "text": [
      "Enter the integer 2\n"
     ]
    },
    {
     "name": "stdout",
     "output_type": "stream",
     "text": [
      "Roman Numeral: II\n"
     ]
    }
   ],
   "source": [
    "#2. Write a Python class to convert an integer to a roman numeral.\n",
    "\n",
    "class integertoroman:\n",
    "    def __init__(self):\n",
    "        self.roman_map = [\n",
    "            (1000, 'M'), (900, 'CM'), (500, 'D'), (400, 'CD'),\n",
    "            (100, 'C'), (90, 'XC'), (50, 'L'), (40, 'XL'),\n",
    "            (10, 'X'), (9, 'IX'), (5, 'V'), (4, 'IV'), (1, 'I')\n",
    "        ]\n",
    "    def int_to_roman(self,num):\n",
    "        roman_numeral = \"\"\n",
    "        for value, symbol in self.roman_map:\n",
    "            while num >= value:\n",
    "                roman_numeral += symbol\n",
    "                num -= value\n",
    "        return roman_numeral\n",
    "\n",
    "converter = integertoroman()\n",
    "num = int(input(\"Enter the integer\"))\n",
    "print(\"Roman Numeral:\", converter.int_to_roman(num))\n",
    "            \n",
    "        \n",
    "        "
   ]
  },
  {
   "cell_type": "code",
   "execution_count": 6,
   "id": "ea70aa30-f7bf-473b-ad1d-f3f651501d72",
   "metadata": {},
   "outputs": [
    {
     "name": "stdout",
     "output_type": "stream",
     "text": [
      "Output: [(3, 4)]\n"
     ]
    }
   ],
   "source": [
    "# Write a Python class to find a pair of elements (indices of the two numbers) from a given array \n",
    "# whose sum equals a specific target number. Input: numbers= [10,20,10,40,50,60,70], target=50 \n",
    "# Output: 3, 4 \n",
    "def find_all_pairs(numbers, target):\n",
    "    pairs = []\n",
    "    index_map = {}\n",
    "\n",
    "    for value, num in enumerate(numbers):\n",
    "        complement = target - num \n",
    "        if complement in index_map:\n",
    "            pairs.append((index_map[complement] + 1, value + 1)) \n",
    "        index_map[num] = value \n",
    "    \n",
    "    return pairs\n",
    "\n",
    "numbers = [10, 20, 10, 40, 50, 60, 70]\n",
    "target = 50\n",
    "\n",
    "result = find_all_pairs(numbers, target)\n",
    "\n",
    "if result:\n",
    "    print(\"Output:\", result)\n",
    "else:\n",
    "    print(\"No pair found\")\n"
   ]
  },
  {
   "cell_type": "code",
   "execution_count": 7,
   "id": "d22fda23-355d-4797-86ba-8e21700aa588",
   "metadata": {},
   "outputs": [
    {
     "name": "stdout",
     "output_type": "stream",
     "text": [
      "Output: [[-10, 2, 8], [-7, -3, 10]]\n"
     ]
    }
   ],
   "source": [
    "def three_sum_zero(arr):\n",
    "    arr.sort()  # Sorting helps in using the two-pointer technique\n",
    "    n = len(arr)\n",
    "    result = []\n",
    "\n",
    "    for i in range(n - 2):\n",
    "        if i > 0 and arr[i] == arr[i - 1]:  # Skip duplicate elements\n",
    "            continue\n",
    "\n",
    "        left, right = i + 1, n - 1\n",
    "\n",
    "        while left < right:\n",
    "            total = arr[i] + arr[left] + arr[right]\n",
    "\n",
    "            if total == 0:\n",
    "                result.append([arr[i], arr[left], arr[right]])\n",
    "                \n",
    "                # Skip duplicates\n",
    "                while left < right and arr[left] == arr[left + 1]:\n",
    "                    left += 1\n",
    "                while left < right and arr[right] == arr[right - 1]:\n",
    "                    right -= 1\n",
    "\n",
    "                left += 1\n",
    "                right -= 1\n",
    "\n",
    "            elif total < 0:\n",
    "                left += 1\n",
    "            else:\n",
    "                right -= 1\n",
    "\n",
    "    return result\n",
    "\n",
    "\n",
    "# **Test the function**\n",
    "arr = [-25, -10, -7, -3, 2, 4, 8, 10]\n",
    "output = three_sum_zero(arr)\n",
    "print(\"Output:\", output)\n"
   ]
  },
  {
   "cell_type": "code",
   "execution_count": 8,
   "id": "fbd21326-5472-43ce-a047-da36b76d4cb3",
   "metadata": {},
   "outputs": [
    {
     "name": "stdout",
     "output_type": "stream",
     "text": [
      "Enter the sentence for reverse \n"
     ]
    },
    {
     "name": "stdin",
     "output_type": "stream",
     "text": [
      " hello world\n"
     ]
    },
    {
     "name": "stdout",
     "output_type": "stream",
     "text": [
      "Output: world hello\n"
     ]
    }
   ],
   "source": [
    "# Write a Python class to reverse a string word by word. Input string : 'hello .py' Expected Output : \n",
    "# '.py hello'\n",
    "def reverse_string(sentence):\n",
    "    return ' '.join(sentence.split()[::-1])\n",
    "\n",
    "print(\"Enter the sentence for reverse \")\n",
    "inputstring = input()\n",
    "output = reverse_string(inputstring)\n",
    "print(\"Output:\", output)"
   ]
  },
  {
   "cell_type": "code",
   "execution_count": 10,
   "id": "5fe5935f-234c-4a22-9c3a-9f061988dd8b",
   "metadata": {},
   "outputs": [
    {
     "name": "stdin",
     "output_type": "stream",
     "text": [
      " hello\n"
     ]
    },
    {
     "name": "stdout",
     "output_type": "stream",
     "text": [
      "Total  words are  5\n"
     ]
    }
   ],
   "source": [
    "# 6. Count the numbers of characters in the string  \n",
    "# a. Read the string.  \n",
    "# b. Count the characters  \n",
    "# c. Display the result \n",
    "\n",
    "def counting_words(character):\n",
    "    return len(character)\n",
    "\n",
    "inputcharacter = input()\n",
    "totalwords = counting_words(inputcharacter)\n",
    "print(\"Total  words are \",totalwords)"
   ]
  },
  {
   "cell_type": "code",
   "execution_count": 14,
   "id": "8699be99-09b8-4501-9bae-56ac573e08ff",
   "metadata": {},
   "outputs": [
    {
     "name": "stdin",
     "output_type": "stream",
     "text": [
      "Enter the size of the square matrix:  2\n"
     ]
    },
    {
     "name": "stdout",
     "output_type": "stream",
     "text": [
      "Enter elements for a 2x2 matrix row-wise:\n"
     ]
    },
    {
     "name": "stdin",
     "output_type": "stream",
     "text": [
      " 1 2\n",
      " 3 4\n"
     ]
    },
    {
     "name": "stdout",
     "output_type": "stream",
     "text": [
      "Enter elements for a 2x2 matrix row-wise:\n"
     ]
    },
    {
     "name": "stdin",
     "output_type": "stream",
     "text": [
      " 5 6\n",
      " 7 8\n"
     ]
    },
    {
     "name": "stdout",
     "output_type": "stream",
     "text": [
      "Resultant Matrix:\n",
      "[6, 8]\n",
      "[10, 12]\n"
     ]
    }
   ],
   "source": [
    "def read_matrix(n):\n",
    "    matrix = []\n",
    "    print(f\"Enter elements for a {n}x{n} matrix row-wise:\")\n",
    "    for i in range(n):\n",
    "        row = list(map(int, input().split()))\n",
    "        matrix.append(row)\n",
    "    return matrix\n",
    "\n",
    "\n",
    "def add_matrices(A, B, n):\n",
    "    result = [[0] * n for _ in range(n)]\n",
    "    for i in range(n):\n",
    "        for j in range(n):\n",
    "            result[i][j] = A[i][j] + B[i][j]\n",
    "    return result\n",
    "\n",
    "\n",
    "n = int(input(\"Enter the size of the square matrix: \"))\n",
    "\n",
    "\n",
    "matrix1 = read_matrix(n)\n",
    "matrix2 = read_matrix(n)\n",
    "\n",
    "\n",
    "result_matrix = add_matrices(matrix1, matrix2, n)\n",
    "\n",
    "\n",
    "print(\"Resultant Matrix:\")\n",
    "for row in result_matrix:\n",
    "    print(row)\n"
   ]
  },
  {
   "cell_type": "code",
   "execution_count": 17,
   "id": "2f04575f-b900-44d3-8104-29cb1ceef4a3",
   "metadata": {},
   "outputs": [
    {
     "name": "stdin",
     "output_type": "stream",
     "text": [
      "Enter size of square matrix (n):  2\n"
     ]
    },
    {
     "name": "stdout",
     "output_type": "stream",
     "text": [
      "Matrix 1:\n",
      "Enter matrix elements row-wise:\n"
     ]
    },
    {
     "name": "stdin",
     "output_type": "stream",
     "text": [
      " 1 2\n",
      " 3 4\n"
     ]
    },
    {
     "name": "stdout",
     "output_type": "stream",
     "text": [
      "Matrix 2:\n",
      "Enter matrix elements row-wise:\n"
     ]
    },
    {
     "name": "stdin",
     "output_type": "stream",
     "text": [
      " 5 6\n",
      " 7 8\n"
     ]
    },
    {
     "name": "stdout",
     "output_type": "stream",
     "text": [
      "Resultant Matrix after Multiplication:\n",
      "19 22\n",
      "43 50\n"
     ]
    }
   ],
   "source": [
    "#quesiton 9\n",
    "# Function to take matrix input\n",
    "def read_matrix(n):\n",
    "    matrix = []\n",
    "    print(\"Enter matrix elements row-wise:\")\n",
    "    for i in range(n):\n",
    "        row = list(map(int, input().split()))  # Taking input for each row\n",
    "        matrix.append(row)\n",
    "    return matrix\n",
    "\n",
    "# Function to multiply two matrices\n",
    "def multiply_matrices(matrix1, matrix2, n):\n",
    "    result = [[0] * n for _ in range(n)]  # Initialize result matrix with zeros\n",
    "    for i in range(n):\n",
    "        for j in range(n):\n",
    "            for k in range(n):  # Multiplication rule\n",
    "                result[i][j] += matrix1[i][k] * matrix2[k][j]\n",
    "    return result\n",
    "\n",
    "# Read matrix size\n",
    "n = int(input(\"Enter size of square matrix (n): \"))\n",
    "\n",
    "\n",
    "print(\"Matrix 1:\")\n",
    "matrix1 = read_matrix(n)\n",
    "\n",
    "print(\"Matrix 2:\")\n",
    "matrix2 = read_matrix(n)\n",
    "\n",
    "\n",
    "result = multiply_matrices(matrix1, matrix2, n)\n",
    "\n",
    "\n",
    "print(\"Resultant Matrix after Multiplication:\")\n",
    "for row in result:\n",
    "    print(*row) \n"
   ]
  },
  {
   "cell_type": "code",
   "execution_count": 18,
   "id": "b0731c0b-3c12-4aad-b6be-60f5ef26176e",
   "metadata": {},
   "outputs": [
    {
     "name": "stdout",
     "output_type": "stream",
     "text": [
      "13.0\n",
      "7.0\n",
      "30\n",
      "3.3333333333333335\n",
      "3\n"
     ]
    }
   ],
   "source": [
    "def calculator(num1, num2, operation=\"addition\", output_format=\"float\"):\n",
    "    # Validate input types\n",
    "    if not isinstance(num1, (int, float)) or not isinstance(num2, (int, float)):\n",
    "        raise ValueError(\"Both numbers must be integers or floats.\")\n",
    "    \n",
    "    if operation not in [\"addition\", \"subtraction\", \"multiplication\", \"division\"]:\n",
    "        raise ValueError(\"Invalid operation. Choose from 'addition', 'subtraction', 'multiplication', or 'division'.\")\n",
    "    \n",
    "    if output_format not in [\"integer\", \"float\"]:\n",
    "        raise ValueError(\"Invalid format. Choose 'integer' or 'float'.\")\n",
    "\n",
    "    # Perform the operation\n",
    "    if operation == \"addition\":\n",
    "        result = num1 + num2\n",
    "    elif operation == \"subtraction\":\n",
    "        result = num1 - num2\n",
    "    elif operation == \"multiplication\":\n",
    "        result = num1 * num2\n",
    "    elif operation == \"division\":\n",
    "        if num2 == 0:\n",
    "            raise ZeroDivisionError(\"Division by zero is not allowed.\")\n",
    "        result = num1 / num2  # Always floating-point division\n",
    "\n",
    "    # Format the result\n",
    "    if output_format == \"integer\":\n",
    "        return round(result)  # Round instead of truncating\n",
    "    return float(result)  # Default to floating point\n",
    "\n",
    "# Example Usage:\n",
    "print(calculator(10, 3))  # Default addition, float -> 13.0\n",
    "print(calculator(10, 3, \"subtraction\"))  # Subtraction, float -> 7.0\n",
    "print(calculator(10, 3, \"multiplication\", \"integer\"))  # Multiplication, integer -> 30\n",
    "print(calculator(10, 3, \"division\"))  # Division, float -> 3.3333333\n",
    "print(calculator(10, 3, \"division\", \"integer\"))  # Division, integer -> 3\n"
   ]
  },
  {
   "cell_type": "code",
   "execution_count": 19,
   "id": "291de4c6-1dec-4724-a3c7-7504cd6944d2",
   "metadata": {},
   "outputs": [
    {
     "name": "stdout",
     "output_type": "stream",
     "text": [
      "9\n",
      "6\n",
      "7\n",
      "(4, 5)\n",
      "(10, 20)\n",
      "Values deleted.\n",
      "(None, None)\n"
     ]
    }
   ],
   "source": [
    "class Numbers:\n",
    "    MULTIPLIER = 2  # Class attribute\n",
    "    \n",
    "    def __init__(self, x, y):\n",
    "        if not isinstance(x, (int, float)) or not isinstance(y, (int, float)):\n",
    "            raise ValueError(\"Both x and y must be numbers.\")\n",
    "        self._x = x\n",
    "        self._y = y\n",
    "\n",
    "    def add(self):\n",
    "        \"\"\"Returns sum of x and y.\"\"\"\n",
    "        return self._x + self._y\n",
    "\n",
    "    @classmethod\n",
    "    def multiply(cls, a):\n",
    "        \"\"\"Multiplies a with class attribute MULTIPLIER.\"\"\"\n",
    "        if not isinstance(a, (int, float)):\n",
    "            raise ValueError(\"Parameter must be a number.\")\n",
    "        return a * cls.MULTIPLIER\n",
    "\n",
    "    @staticmethod\n",
    "    def subtract(b, c):\n",
    "        \"\"\"Returns b - c.\"\"\"\n",
    "        if not isinstance(b, (int, float)) or not isinstance(c, (int, float)):\n",
    "            raise ValueError(\"Both parameters must be numbers.\")\n",
    "        return b - c\n",
    "\n",
    "    @property\n",
    "    def value(self):\n",
    "        \"\"\"Getter method for x and y values.\"\"\"\n",
    "        return self._x, self._y\n",
    "\n",
    "    @value.setter\n",
    "    def value(self, new_values):\n",
    "        \"\"\"Setter method for x and y values.\"\"\"\n",
    "        if not isinstance(new_values, tuple) or len(new_values) != 2:\n",
    "            raise ValueError(\"Must provide a tuple with two numbers.\")\n",
    "        x, y = new_values\n",
    "        if not isinstance(x, (int, float)) or not isinstance(y, (int, float)):\n",
    "            raise ValueError(\"Both values must be numbers.\")\n",
    "        self._x = x\n",
    "        self._y = y\n",
    "\n",
    "    @value.deleter\n",
    "    def value(self):\n",
    "        \"\"\"Deletes x and y values.\"\"\"\n",
    "        self._x = None\n",
    "        self._y = None\n",
    "        print(\"Values deleted.\")\n",
    "\n",
    "# Example Usage:\n",
    "num = Numbers(4, 5)\n",
    "print(num.add())  # Output: 9\n",
    "print(Numbers.multiply(3))  # Output: 6\n",
    "print(Numbers.subtract(10, 3))  # Output: 7\n",
    "\n",
    "print(num.value)  # Output: (4, 5)\n",
    "num.value = (10, 20)\n",
    "print(num.value)  # Output: (10, 20)\n",
    "\n",
    "del num.value\n",
    "print(num.value)  # Output: (None, None)\n"
   ]
  },
  {
   "cell_type": "code",
   "execution_count": null,
   "id": "22ac2b46-400f-4588-8dd9-8ca4397e6c9f",
   "metadata": {},
   "outputs": [],
   "source": []
  }
 ],
 "metadata": {
  "kernelspec": {
   "display_name": "Python 3 (ipykernel)",
   "language": "python",
   "name": "python3"
  },
  "language_info": {
   "codemirror_mode": {
    "name": "ipython",
    "version": 3
   },
   "file_extension": ".py",
   "mimetype": "text/x-python",
   "name": "python",
   "nbconvert_exporter": "python",
   "pygments_lexer": "ipython3",
   "version": "3.11.7"
  }
 },
 "nbformat": 4,
 "nbformat_minor": 5
}
