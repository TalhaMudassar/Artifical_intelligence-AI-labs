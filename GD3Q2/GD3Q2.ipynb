{
 "cells": [
  {
   "cell_type": "code",
   "execution_count": 1,
   "id": "c6ec5702-2591-4a9e-bdbd-2977c54b3505",
   "metadata": {},
   "outputs": [],
   "source": [
    "# STEP 1: IMPORT LIBRARIES\n",
    "import numpy as np\n",
    "import pandas as pd\n",
    "from sklearn.model_selection import train_test_split\n",
    "from sklearn.preprocessing import StandardScaler\n",
    "from sklearn.naive_bayes import GaussianNB\n",
    "from sklearn.metrics import accuracy_score, f1_score"
   ]
  },
  {
   "cell_type": "code",
   "execution_count": 2,
   "id": "e599664b-5c13-4e0c-8762-d41f1d43d39c",
   "metadata": {},
   "outputs": [],
   "source": [
    "# STEP 2: LOAD DATASET\n",
    "dataset = pd.read_csv(\"student.csv\")"
   ]
  },
  {
   "cell_type": "code",
   "execution_count": 3,
   "id": "40738a20-b11a-4329-8417-a78b1cf06ecb",
   "metadata": {},
   "outputs": [],
   "source": [
    "# STEP 3: SEPARATE LABELS & FEATURES\n",
    "# Drop StudentID and separate GradeClass\n",
    "x = dataset.drop(columns=[\"StudentID\", \"GradeClass\"])\n",
    "y = dataset[\"GradeClass\"]"
   ]
  },
  {
   "cell_type": "code",
   "execution_count": 4,
   "id": "7c8c765a-b998-4ff1-aa0f-d0de396ac315",
   "metadata": {},
   "outputs": [],
   "source": [
    "# OPTIONAL: Convert non-numeric data to numeric if needed\n",
    "x = pd.get_dummies(x)"
   ]
  },
  {
   "cell_type": "code",
   "execution_count": 5,
   "id": "c0e8aec6-089d-4fef-a45a-c13c2e5098bd",
   "metadata": {},
   "outputs": [],
   "source": [
    "# Standardize the data (Naive Bayes usually doesn't require it but helps with scaled features)\n",
    "scaler = StandardScaler()\n",
    "x_scaled = scaler.fit_transform(x)"
   ]
  },
  {
   "cell_type": "code",
   "execution_count": 6,
   "id": "a9c72fa3-0e1b-4637-83fa-3bb67b94242b",
   "metadata": {},
   "outputs": [],
   "source": [
    "# STEP 4: DEFINE FUNCTION TO RUN EXPERIMENT\n",
    "def run_naive_bayes(test_size):\n",
    "    x_train, x_test, y_train, y_test = train_test_split(x_scaled, y, test_size=test_size, random_state=42)\n",
    "\n",
    "    model = GaussianNB()\n",
    "    model.fit(x_train, y_train)\n",
    "    \n",
    "    y_pred = model.predict(x_test)\n",
    "    \n",
    "    acc = accuracy_score(y_test, y_pred)\n",
    "    f1 = f1_score(y_test, y_pred, average='weighted')  # assuming multiclass\n",
    "    print(f\"\\nTest Size = {test_size}\")\n",
    "    print(\"Accuracy Score:\", acc)\n",
    "    print(\"F1 Score:\", f1)"
   ]
  },
  {
   "cell_type": "code",
   "execution_count": 7,
   "id": "f3c7d2a5-0f6a-4505-aff1-deb18247a271",
   "metadata": {},
   "outputs": [
    {
     "name": "stdout",
     "output_type": "stream",
     "text": [
      "\n",
      "Test Size = 0.2\n",
      "Accuracy Score: 0.755741127348643\n",
      "F1 Score: 0.744264979210163\n",
      "\n",
      "Test Size = 0.35\n",
      "Accuracy Score: 0.7625298329355609\n",
      "F1 Score: 0.7515528383211681\n",
      "\n",
      "Test Size = 0.4\n",
      "Accuracy Score: 0.7784743991640544\n",
      "F1 Score: 0.7672385397917691\n"
     ]
    }
   ],
   "source": [
    "# STEP 5: RUN FOR DIFFERENT TEST SIZES\n",
    "for ts in [0.2, 0.35, 0.4]:\n",
    "    run_naive_bayes(ts)"
   ]
  },
  {
   "cell_type": "code",
   "execution_count": null,
   "id": "4b7dbd16-4668-402c-aee1-b1d35b2b7588",
   "metadata": {},
   "outputs": [],
   "source": []
  }
 ],
 "metadata": {
  "kernelspec": {
   "display_name": "Python 3 (ipykernel)",
   "language": "python",
   "name": "python3"
  },
  "language_info": {
   "codemirror_mode": {
    "name": "ipython",
    "version": 3
   },
   "file_extension": ".py",
   "mimetype": "text/x-python",
   "name": "python",
   "nbconvert_exporter": "python",
   "pygments_lexer": "ipython3",
   "version": "3.11.7"
  }
 },
 "nbformat": 4,
 "nbformat_minor": 5
}
